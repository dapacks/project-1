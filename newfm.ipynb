{
 "cells": [
  {
   "cell_type": "code",
   "execution_count": 20,
   "id": "4c1044e2",
   "metadata": {},
   "outputs": [],
   "source": [
    "def makedir(directory):\n",
    "    if not os.path.exists(directory): \n",
    "        os.makedirs(directory) \n",
    "        return None\n",
    "    else:\n",
    "        pass"
   ]
  },
  {
   "cell_type": "code",
   "execution_count": null,
   "id": "0275011c",
   "metadata": {},
   "outputs": [],
   "source": [
    "import cv2\n",
    "import os\n",
    "\n",
    "cap = cv2.VideoCapture(0)\n",
    "\n",
    "i = 0\n",
    "image_count = 0\n",
    "\n",
    "while i < 6:\n",
    "    ret,frame = cap.read()\n",
    "    frame = cv2.flip(frame,1)\n",
    "\n",
    "  #ROI\n",
    "    roi = frame[100:400,320:620]\n",
    "    cv2.imshow('roi',roi)\n",
    "    roi = cv2.cvtColor(roi , cv2.COLOR_BGR2GRAY)\n",
    "    roi = cv2.resize(roi , (28,28) , interpolation = cv2.INTER_AREA)\n",
    "\n",
    "    cv2.imshow('roi scaled and gray' , roi)\n",
    "    copy = frame.copy()\n",
    "    cv2.rectangle(copy , (320,100) , (620,400) , (255,0,0) , 5)\n",
    "\n",
    "    if i == 0:\n",
    "        image_count = 0\n",
    "        cv2.putText(copy, 'Press Enter to record 1st object' , (100,100) , cv2.FONT_HERSHEY_COMPLEX, 1,(0,255,0),1)\n",
    "    if i == 1:\n",
    "        image_count += 1\n",
    "        cv2.putText(copy, 'Recording 1st object - Train Dataset' , (100,100) , cv2.FONT_HERSHEY_COMPLEX, 1,(0,255,0),1)\n",
    "        cv2.putText(copy, str(image_count) , (400,400) , cv2.FONT_HERSHEY_COMPLEX, 1,(0,255,0),1)\n",
    "        gesture_one = 'D:/projectdata/train/0/'\n",
    "        makedir(gesture_one)\n",
    "        cv2.imwrite(gesture_one + str(image_count) + \".jpg\" , roi)\n",
    "    if i == 2:\n",
    "        image_count += 1\n",
    "        cv2.putText(copy, 'Recording 1st object - Test Dataset' , (100,100) , cv2.FONT_HERSHEY_COMPLEX, 1,(0,255,0),1)\n",
    "        cv2.putText(copy, str(image_count) , (400,400) , cv2.FONT_HERSHEY_COMPLEX, 1,(0,255,0),1)\n",
    "        gesture_one = 'D:/projectdata/test/0/'\n",
    "        makedir(gesture_one)\n",
    "        cv2.imwrite(gesture_one + str(image_count) + \".jpg\" , roi)\n",
    "  \n",
    "    if i == 3:\n",
    "        image_count = 0\n",
    "        cv2.putText(copy, 'Press Enter to record 2nd object' , (100,100) , cv2.FONT_HERSHEY_COMPLEX, 1,(0,255,0),1)\n",
    "    if i == 4:\n",
    "        image_count += 1\n",
    "        cv2.putText(copy, 'Recording 2nd object - Train Dataset' , (100,100) , cv2.FONT_HERSHEY_COMPLEX, 1,(0,255,0),1)\n",
    "        cv2.putText(copy, str(image_count) , (400,400) , cv2.FONT_HERSHEY_COMPLEX, 1,(0,255,0),1)\n",
    "        gesture_one = 'D:/projectdata/train/1/'\n",
    "        makedir(gesture_one)\n",
    "        cv2.imwrite(gesture_one + str(image_count) + \".jpg\" , roi)\n",
    "    if i == 5:\n",
    "        image_count += 1\n",
    "        cv2.putText(copy, 'Recording 2nd object - Test Dataset' , (100,100) , cv2.FONT_HERSHEY_COMPLEX, 1,(0,255,0),1)\n",
    "        cv2.putText(copy, str(image_count) , (400,400) , cv2.FONT_HERSHEY_COMPLEX, 1,(0,255,0),1)\n",
    "        gesture_one = 'D:/projectdata/test/1/'\n",
    "        makedir(gesture_one)\n",
    "        cv2.imwrite(gesture_one + str(image_count) + \".jpg\" , roi)\n",
    "    if i == 9:\n",
    "        cv2.putText(copy, 'Hit Enter to Exit' , (100,100) , cv2.FONT_HERSHEY_COMPLEX, 1,(0,255,0),1)\n",
    "    cv2.imshow('frame' , copy)\n",
    "\n",
    "    if cv2.waitKey(1) == 13:\n",
    "        image_count = 0\n",
    "        i += 1\n",
    "cap.release()\n",
    "cv2.destroyAllWindows()"
   ]
  },
  {
   "cell_type": "code",
   "execution_count": 1,
   "id": "d41d4b4c",
   "metadata": {},
   "outputs": [],
   "source": [
    "import tensorflow\n",
    "from tensorflow import keras\n",
    "from tensorflow.keras.models import Sequential\n",
    "#from keras.utils import np_utils\n",
    "from tensorflow.keras.preprocessing.image import ImageDataGenerator\n",
    "from tensorflow.keras.layers import Dense, Activation, Flatten, Dropout, BatchNormalization\n",
    "from tensorflow.keras.layers import Conv2D, MaxPooling2D\n",
    "#from keras.datasets import cifar10\n",
    "#from keras import regularizers\n",
    "#from keras.callbacks import LearningRateScheduler\n",
    "import numpy as np\n",
    "import os\n",
    "\n",
    "\n"
   ]
  },
  {
   "cell_type": "code",
   "execution_count": 2,
   "id": "cb0c5c66",
   "metadata": {},
   "outputs": [
    {
     "name": "stdout",
     "output_type": "stream",
     "text": [
      "Model: \"sequential\"\n",
      "_________________________________________________________________\n",
      " Layer (type)                Output Shape              Param #   \n",
      "=================================================================\n",
      " conv2d (Conv2D)             (None, 26, 26, 64)        640       \n",
      "                                                                 \n",
      " max_pooling2d (MaxPooling2D  (None, 13, 13, 64)       0         \n",
      " )                                                               \n",
      "                                                                 \n",
      " conv2d_1 (Conv2D)           (None, 11, 11, 64)        36928     \n",
      "                                                                 \n",
      " max_pooling2d_1 (MaxPooling  (None, 5, 5, 64)         0         \n",
      " 2D)                                                             \n",
      "                                                                 \n",
      " conv2d_2 (Conv2D)           (None, 3, 3, 64)          36928     \n",
      "                                                                 \n",
      " max_pooling2d_2 (MaxPooling  (None, 1, 1, 64)         0         \n",
      " 2D)                                                             \n",
      "                                                                 \n",
      " flatten (Flatten)           (None, 64)                0         \n",
      "                                                                 \n",
      " dense (Dense)               (None, 128)               8320      \n",
      "                                                                 \n",
      " dropout (Dropout)           (None, 128)               0         \n",
      "                                                                 \n",
      " dense_1 (Dense)             (None, 1)                 129       \n",
      "                                                                 \n",
      "=================================================================\n",
      "Total params: 82,945\n",
      "Trainable params: 82,945\n",
      "Non-trainable params: 0\n",
      "_________________________________________________________________\n",
      "None\n"
     ]
    }
   ],
   "source": [
    "model = Sequential()\n",
    "model.add(Conv2D(64, kernel_size=(3,3), activation='relu' , input_shape=(28,28,1)))\n",
    "model.add(MaxPooling2D(pool_size = (2,2)))\n",
    "\n",
    "model.add(Conv2D(64, kernel_size=(3,3), activation='relu'))\n",
    "model.add(MaxPooling2D(pool_size = (2,2)))\n",
    "\n",
    "model.add(Conv2D(64, kernel_size=(3,3), activation='relu'))\n",
    "model.add(MaxPooling2D(pool_size = (2,2)))\n",
    "\n",
    "model.add(Flatten())\n",
    "model.add(Dense(128, activation='relu'))\n",
    "model.add(Dropout(0.20))\n",
    "\n",
    "model.add(Dense(1, activation = 'sigmoid'))\n",
    "\n",
    "print(model.summary())\n"
   ]
  },
  {
   "cell_type": "code",
   "execution_count": 4,
   "id": "0b9d067e",
   "metadata": {},
   "outputs": [],
   "source": [
    "import cv2\n",
    "labels = []\n",
    "features = []\n",
    "import os\n",
    "for i in os.listdir('D:/projectdata/train/0'):\n",
    "    labels.append(0)\n",
    "for i in os.listdir('D:/projectdata/train/1'):\n",
    "    labels.append(1)\n",
    "    \n",
    "for i in os.listdir('D:/projectdata/train/0'):\n",
    "    features.append(cv2.imread(os.path.join('D:/projectdata/train/0',i),0))\n",
    "for i in os.listdir('D:/projectdata/train/1'):\n",
    "    features.append(cv2.imread(os.path.join('D:/projectdata/train/1',i),0))\n",
    "\n"
   ]
  },
  {
   "cell_type": "code",
   "execution_count": 5,
   "id": "891dbc2c",
   "metadata": {},
   "outputs": [],
   "source": [
    "\n",
    "test_labels = []\n",
    "test_features = []\n",
    "import os\n",
    "for i in os.listdir('D:/projectdata/test/0'):\n",
    "    test_labels.append(0)\n",
    "for i in os.listdir('D:/projectdata/test/1'):\n",
    "    test_labels.append(1)\n",
    "    \n",
    "for i in os.listdir('D:/projectdata/test/0'):\n",
    "    test_features.append(cv2.imread(os.path.join('D:/projectdata/test/0',i),0))\n",
    "for i in os.listdir('D:/projectdata/test/1'):\n",
    "    test_features.append(cv2.imread(os.path.join('D:/projectdata/test/1',i),0))\n",
    "\n"
   ]
  },
  {
   "cell_type": "code",
   "execution_count": 6,
   "id": "fb07e418",
   "metadata": {},
   "outputs": [],
   "source": [
    "features[:] = [x/255 for x in features]\n",
    "test_features[:] = [x/255 for x in test_features]"
   ]
  },
  {
   "cell_type": "code",
   "execution_count": 7,
   "id": "ff7056d5",
   "metadata": {},
   "outputs": [],
   "source": [
    "labels = np.array(labels)\n",
    "test_labels = np.array(test_labels)"
   ]
  },
  {
   "cell_type": "code",
   "execution_count": null,
   "id": "55001209",
   "metadata": {},
   "outputs": [],
   "source": []
  },
  {
   "cell_type": "code",
   "execution_count": 8,
   "id": "e69d926b",
   "metadata": {},
   "outputs": [
    {
     "ename": "AttributeError",
     "evalue": "'list' object has no attribute 'shape'",
     "output_type": "error",
     "traceback": [
      "\u001b[1;31m---------------------------------------------------------------------------\u001b[0m",
      "\u001b[1;31mAttributeError\u001b[0m                            Traceback (most recent call last)",
      "Cell \u001b[1;32mIn[8], line 9\u001b[0m\n\u001b[0;32m      5\u001b[0m epochs \u001b[38;5;241m=\u001b[39m \u001b[38;5;241m20\u001b[39m\n\u001b[0;32m      6\u001b[0m batch_size \u001b[38;5;241m=\u001b[39m \u001b[38;5;241m32\u001b[39m\n\u001b[0;32m      8\u001b[0m model\u001b[38;5;241m.\u001b[39mfit(features, labels, batch_size\u001b[38;5;241m=\u001b[39mbatch_size, \n\u001b[1;32m----> 9\u001b[0m           steps_per_epoch\u001b[38;5;241m=\u001b[39m\u001b[43mfeatures\u001b[49m\u001b[38;5;241;43m.\u001b[39;49m\u001b[43mshape\u001b[49m[\u001b[38;5;241m0\u001b[39m] \u001b[38;5;241m/\u001b[39m\u001b[38;5;241m/\u001b[39m batch_size,\n\u001b[0;32m     10\u001b[0m           epochs\u001b[38;5;241m=\u001b[39m\u001b[38;5;241m40\u001b[39m,\n\u001b[0;32m     11\u001b[0m           verbose\u001b[38;5;241m=\u001b[39m\u001b[38;5;241m1\u001b[39m,validation_data\u001b[38;5;241m=\u001b[39m(test_features,test_labels))\n",
      "\u001b[1;31mAttributeError\u001b[0m: 'list' object has no attribute 'shape'"
     ]
    }
   ],
   "source": [
    "model.compile(loss = 'binary_crossentropy',\n",
    "              optimizer = 'rmsprop',\n",
    "              metrics = ['accuracy'])\n",
    "\n",
    "epochs = 20\n",
    "batch_size = 32\n",
    "\n",
    "model.fit(features, labels, batch_size=batch_size, \n",
    "          steps_per_epoch=features.shape[0] // batch_size,\n",
    "          epochs=40,\n",
    "          verbose=1,validation_data=(test_features,test_labels))\n",
    "\n"
   ]
  },
  {
   "cell_type": "code",
   "execution_count": null,
   "id": "d6bbfa2a",
   "metadata": {},
   "outputs": [],
   "source": []
  }
 ],
 "metadata": {
  "kernelspec": {
   "display_name": "Python 3 (ipykernel)",
   "language": "python",
   "name": "python3"
  },
  "language_info": {
   "codemirror_mode": {
    "name": "ipython",
    "version": 3
   },
   "file_extension": ".py",
   "mimetype": "text/x-python",
   "name": "python",
   "nbconvert_exporter": "python",
   "pygments_lexer": "ipython3",
   "version": "3.9.6"
  }
 },
 "nbformat": 4,
 "nbformat_minor": 5
}
